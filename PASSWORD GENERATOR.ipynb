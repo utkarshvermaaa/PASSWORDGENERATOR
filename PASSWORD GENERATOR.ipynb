{
 "cells": [
  {
   "cell_type": "markdown",
   "id": "e1416f22",
   "metadata": {},
   "source": [
    "RANDOM PASSWORD GENERATOR"
   ]
  },
  {
   "cell_type": "code",
   "execution_count": 3,
   "id": "19c0820a",
   "metadata": {},
   "outputs": [
    {
     "name": "stdout",
     "output_type": "stream",
     "text": [
      "ENTER LENGTH OF PASSWORD YOU WANT: 10\n",
      "HERE IS YOUR PASSWORD :\n",
      "zFXl@oWvQU\n"
     ]
    }
   ],
   "source": [
    "import random\n",
    "leng=int(input(\"ENTER LENGTH OF PASSWORD YOU WANT: \"))\n",
    "a=\"abcdefghijklmnopqrstuvwxyz01234567890ABCDEFGHIJKLMNOPQRSTUVWXYZ!@#$%^&*)\"\n",
    "b= \"\".join(random.sample(a,leng))\n",
    "print(f\"HERE IS YOUR PASSWORD :\\n{b}\")"
   ]
  },
  {
   "cell_type": "code",
   "execution_count": null,
   "id": "c65c6533",
   "metadata": {},
   "outputs": [],
   "source": []
  }
 ],
 "metadata": {
  "kernelspec": {
   "display_name": "Python 3 (ipykernel)",
   "language": "python",
   "name": "python3"
  },
  "language_info": {
   "codemirror_mode": {
    "name": "ipython",
    "version": 3
   },
   "file_extension": ".py",
   "mimetype": "text/x-python",
   "name": "python",
   "nbconvert_exporter": "python",
   "pygments_lexer": "ipython3",
   "version": "3.9.12"
  }
 },
 "nbformat": 4,
 "nbformat_minor": 5
}
